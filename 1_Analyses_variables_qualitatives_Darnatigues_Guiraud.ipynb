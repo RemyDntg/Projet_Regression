{
 "cells": [
  {
   "cell_type": "markdown",
   "id": "f9b28ec0-a15f-4508-8fc4-33fc3bfd392e",
   "metadata": {},
   "source": [
    "# Recherche de facteurs d'influence sur le temps de sommeil\n",
    "_Darnatigues Rémy / Guiraud Philippe_"
   ]
  },
  {
   "cell_type": "markdown",
   "id": "cc6835b9-a507-4bb4-9763-0065d05f3876",
   "metadata": {},
   "source": [
    "##### Source de la base de données : https://www.kaggle.com/datasets/uom190346a/sleep-health-and-lifestyle-dataset"
   ]
  },
  {
   "cell_type": "markdown",
   "id": "a169075b-9a59-4ed9-8693-18cd22265e9e",
   "metadata": {},
   "source": [
    "L'analyse de cette base de données par régression linéaire va nous permettre de déterminer s'il y a corrélation entre divers facteurs soupçonnés d'influencer le temps de sommeil en se basant sur une étude portant sur 374 personnes en france.\n",
    "\n",
    "Ces données sont décrites ci-dessous :\n",
    "\n",
    "#### La variable cible : \n",
    " - Sleep Duration : Temps de sommeil quotidien en heures.\n",
    "\n",
    "#### Les variables explicatives : \n",
    "\n",
    "##### Variables qualitatives :\n",
    " - Gender: Genre (M/F).\n",
    " - Occupation: Occupation ou métier.\n",
    " - BMI Category: L'IMC de la personne sous format texte (e.g., Underweight, Normal, Overweight).\n",
    " - Sleep Disorder: Présence ou absence de trouble du sommeil et le trouble en question si présent (insomnie ou apnée du sommeil). (None, Insomnia, Sleep Apnea).\n",
    "\n",
    "##### Variables quantitatives :\n",
    " - Age: Âge en années.\n",
    " - Physical Activity Level (minutes/day): Nombre de minutes d'activité physique par jour.\n",
    " - Stress Level (scale: 1-10): Note subjective entre 1 et 10 fournie par la personne interrogée sur son niveau de stress.\n",
    " - Blood Pressure (systolic/diastolic): Mesure de pression sanguine (en mmHG). \n",
    " - Heart Rate (bpm): Battements cardiaques au repos (en battements/minute).\n",
    " - Daily Steps: Nombre de pas journalier.\n"
   ]
  },
  {
   "cell_type": "markdown",
   "id": "ea02aa43-bc17-4b9c-a2ac-b779fbca51be",
   "metadata": {},
   "source": [
    "**Importation du jeu de données :**"
   ]
  },
  {
   "cell_type": "code",
   "execution_count": 5,
   "id": "f62c6e26-61b6-4068-a446-af4a609c50f2",
   "metadata": {
    "jupyter": {
     "source_hidden": true
    }
   },
   "outputs": [],
   "source": [
    "import pandas as pd\n",
    "import matplotlib.pyplot as plt\n",
    "import numpy as np\n",
    "import seaborn as sns\n",
    "from tabulate import tabulate"
   ]
  },
  {
   "cell_type": "code",
   "execution_count": 6,
   "id": "6e3fa0ed-887d-4411-98a6-fd812299717b",
   "metadata": {
    "jupyter": {
     "source_hidden": true
    }
   },
   "outputs": [],
   "source": [
    "fichier = pd.read_csv(\"Sleep_health_and_lifestyle_dataset.csv\", sep=\",\")"
   ]
  },
  {
   "cell_type": "markdown",
   "id": "98db9781-a617-479e-8f93-94bdcb5a569c",
   "metadata": {},
   "source": [
    "**Voici l'entête de notre fichier :**"
   ]
  },
  {
   "cell_type": "code",
   "execution_count": 8,
   "id": "086e0afe-92d7-4716-a8f8-b123f080196b",
   "metadata": {
    "jupyter": {
     "source_hidden": true
    }
   },
   "outputs": [
    {
     "data": {
      "text/html": [
       "<div>\n",
       "<style scoped>\n",
       "    .dataframe tbody tr th:only-of-type {\n",
       "        vertical-align: middle;\n",
       "    }\n",
       "\n",
       "    .dataframe tbody tr th {\n",
       "        vertical-align: top;\n",
       "    }\n",
       "\n",
       "    .dataframe thead th {\n",
       "        text-align: right;\n",
       "    }\n",
       "</style>\n",
       "<table border=\"1\" class=\"dataframe\">\n",
       "  <thead>\n",
       "    <tr style=\"text-align: right;\">\n",
       "      <th></th>\n",
       "      <th>Person ID</th>\n",
       "      <th>Gender</th>\n",
       "      <th>Age</th>\n",
       "      <th>Occupation</th>\n",
       "      <th>Sleep Duration</th>\n",
       "      <th>Quality of Sleep</th>\n",
       "      <th>Physical Activity Level</th>\n",
       "      <th>Stress Level</th>\n",
       "      <th>BMI Category</th>\n",
       "      <th>Blood Pressure</th>\n",
       "      <th>Heart Rate</th>\n",
       "      <th>Daily Steps</th>\n",
       "      <th>Sleep Disorder</th>\n",
       "    </tr>\n",
       "  </thead>\n",
       "  <tbody>\n",
       "    <tr>\n",
       "      <th>0</th>\n",
       "      <td>1</td>\n",
       "      <td>Male</td>\n",
       "      <td>27</td>\n",
       "      <td>Software Engineer</td>\n",
       "      <td>6.1</td>\n",
       "      <td>6</td>\n",
       "      <td>42</td>\n",
       "      <td>6</td>\n",
       "      <td>Overweight</td>\n",
       "      <td>126/83</td>\n",
       "      <td>77</td>\n",
       "      <td>4200</td>\n",
       "      <td>NaN</td>\n",
       "    </tr>\n",
       "    <tr>\n",
       "      <th>1</th>\n",
       "      <td>2</td>\n",
       "      <td>Male</td>\n",
       "      <td>28</td>\n",
       "      <td>Doctor</td>\n",
       "      <td>6.2</td>\n",
       "      <td>6</td>\n",
       "      <td>60</td>\n",
       "      <td>8</td>\n",
       "      <td>Normal</td>\n",
       "      <td>125/80</td>\n",
       "      <td>75</td>\n",
       "      <td>10000</td>\n",
       "      <td>NaN</td>\n",
       "    </tr>\n",
       "    <tr>\n",
       "      <th>2</th>\n",
       "      <td>3</td>\n",
       "      <td>Male</td>\n",
       "      <td>28</td>\n",
       "      <td>Doctor</td>\n",
       "      <td>6.2</td>\n",
       "      <td>6</td>\n",
       "      <td>60</td>\n",
       "      <td>8</td>\n",
       "      <td>Normal</td>\n",
       "      <td>125/80</td>\n",
       "      <td>75</td>\n",
       "      <td>10000</td>\n",
       "      <td>NaN</td>\n",
       "    </tr>\n",
       "    <tr>\n",
       "      <th>3</th>\n",
       "      <td>4</td>\n",
       "      <td>Male</td>\n",
       "      <td>28</td>\n",
       "      <td>Sales Representative</td>\n",
       "      <td>5.9</td>\n",
       "      <td>4</td>\n",
       "      <td>30</td>\n",
       "      <td>8</td>\n",
       "      <td>Obese</td>\n",
       "      <td>140/90</td>\n",
       "      <td>85</td>\n",
       "      <td>3000</td>\n",
       "      <td>Sleep Apnea</td>\n",
       "    </tr>\n",
       "    <tr>\n",
       "      <th>4</th>\n",
       "      <td>5</td>\n",
       "      <td>Male</td>\n",
       "      <td>28</td>\n",
       "      <td>Sales Representative</td>\n",
       "      <td>5.9</td>\n",
       "      <td>4</td>\n",
       "      <td>30</td>\n",
       "      <td>8</td>\n",
       "      <td>Obese</td>\n",
       "      <td>140/90</td>\n",
       "      <td>85</td>\n",
       "      <td>3000</td>\n",
       "      <td>Sleep Apnea</td>\n",
       "    </tr>\n",
       "  </tbody>\n",
       "</table>\n",
       "</div>"
      ],
      "text/plain": [
       "   Person ID Gender  Age            Occupation  Sleep Duration  \\\n",
       "0          1   Male   27     Software Engineer             6.1   \n",
       "1          2   Male   28                Doctor             6.2   \n",
       "2          3   Male   28                Doctor             6.2   \n",
       "3          4   Male   28  Sales Representative             5.9   \n",
       "4          5   Male   28  Sales Representative             5.9   \n",
       "\n",
       "   Quality of Sleep  Physical Activity Level  Stress Level BMI Category  \\\n",
       "0                 6                       42             6   Overweight   \n",
       "1                 6                       60             8       Normal   \n",
       "2                 6                       60             8       Normal   \n",
       "3                 4                       30             8        Obese   \n",
       "4                 4                       30             8        Obese   \n",
       "\n",
       "  Blood Pressure  Heart Rate  Daily Steps Sleep Disorder  \n",
       "0         126/83          77         4200            NaN  \n",
       "1         125/80          75        10000            NaN  \n",
       "2         125/80          75        10000            NaN  \n",
       "3         140/90          85         3000    Sleep Apnea  \n",
       "4         140/90          85         3000    Sleep Apnea  "
      ]
     },
     "metadata": {},
     "output_type": "display_data"
    },
    {
     "name": "stdout",
     "output_type": "stream",
     "text": [
      "La base initiale contient 374 lignes et 13 colonnes.\n"
     ]
    }
   ],
   "source": [
    "nb_lignes, nb_colonnes = fichier.shape\n",
    "display(fichier.head())\n",
    "print(f\"La base initiale contient {nb_lignes} lignes et {nb_colonnes} colonnes.\")"
   ]
  },
  {
   "cell_type": "markdown",
   "id": "35a72974-818a-4872-89d0-a147459cc330",
   "metadata": {},
   "source": [
    "## 1 - Nettoyage des données"
   ]
  },
  {
   "cell_type": "markdown",
   "id": "06f8a3c7-1079-41e4-9203-3537055a9d27",
   "metadata": {},
   "source": [
    "Nous laissons de côté la première colonne 'Person ID' car c'est juste un identifiant de compte de personne (de 1 à 374), elle nous sera inutile pour la suite.  \n",
    "De plus, nous allons séparer la colonne sur la pression sanguine en deux colonnes : une colonne assignée à la pression systolique et une autre à la pression diastolique. "
   ]
  },
  {
   "cell_type": "code",
   "execution_count": 11,
   "id": "0026d0c6-77ef-48ce-a1f7-7f4b1d50f253",
   "metadata": {
    "jupyter": {
     "source_hidden": true
    }
   },
   "outputs": [],
   "source": [
    "fichier.drop('Person ID', axis = 1, inplace = True)\n",
    "\n",
    "# Listes pour stocker les 2 valeurs de Blood Pressure\n",
    "systolique = []  # valeur 1\n",
    "diastolique = []  # valeur 2\n",
    "\n",
    "for value in fichier[\"Blood Pressure\"]:\n",
    "    val_1, val_2 = value.split('/')\n",
    "    systolique.append(int(val_1))  \n",
    "    diastolique.append(int(val_2)) \n",
    "\n",
    "fichier['Systolic'] = systolique\n",
    "fichier['Diastolic'] = diastolique\n",
    "\n",
    "fichier.drop('Blood Pressure', axis = 1, inplace = True)"
   ]
  },
  {
   "cell_type": "code",
   "execution_count": 12,
   "id": "b3c33753-101e-47b1-b9eb-2ef0bf724dc6",
   "metadata": {
    "jupyter": {
     "source_hidden": true
    }
   },
   "outputs": [
    {
     "data": {
      "text/html": [
       "<div>\n",
       "<style scoped>\n",
       "    .dataframe tbody tr th:only-of-type {\n",
       "        vertical-align: middle;\n",
       "    }\n",
       "\n",
       "    .dataframe tbody tr th {\n",
       "        vertical-align: top;\n",
       "    }\n",
       "\n",
       "    .dataframe thead th {\n",
       "        text-align: right;\n",
       "    }\n",
       "</style>\n",
       "<table border=\"1\" class=\"dataframe\">\n",
       "  <thead>\n",
       "    <tr style=\"text-align: right;\">\n",
       "      <th></th>\n",
       "      <th>Gender</th>\n",
       "      <th>Age</th>\n",
       "      <th>Occupation</th>\n",
       "      <th>Sleep Duration</th>\n",
       "      <th>Quality of Sleep</th>\n",
       "      <th>Physical Activity Level</th>\n",
       "      <th>Stress Level</th>\n",
       "      <th>BMI Category</th>\n",
       "      <th>Heart Rate</th>\n",
       "      <th>Daily Steps</th>\n",
       "      <th>Sleep Disorder</th>\n",
       "      <th>Systolic</th>\n",
       "      <th>Diastolic</th>\n",
       "    </tr>\n",
       "  </thead>\n",
       "  <tbody>\n",
       "    <tr>\n",
       "      <th>0</th>\n",
       "      <td>Male</td>\n",
       "      <td>27</td>\n",
       "      <td>Software Engineer</td>\n",
       "      <td>6.1</td>\n",
       "      <td>6</td>\n",
       "      <td>42</td>\n",
       "      <td>6</td>\n",
       "      <td>Overweight</td>\n",
       "      <td>77</td>\n",
       "      <td>4200</td>\n",
       "      <td>NaN</td>\n",
       "      <td>126</td>\n",
       "      <td>83</td>\n",
       "    </tr>\n",
       "    <tr>\n",
       "      <th>1</th>\n",
       "      <td>Male</td>\n",
       "      <td>28</td>\n",
       "      <td>Doctor</td>\n",
       "      <td>6.2</td>\n",
       "      <td>6</td>\n",
       "      <td>60</td>\n",
       "      <td>8</td>\n",
       "      <td>Normal</td>\n",
       "      <td>75</td>\n",
       "      <td>10000</td>\n",
       "      <td>NaN</td>\n",
       "      <td>125</td>\n",
       "      <td>80</td>\n",
       "    </tr>\n",
       "    <tr>\n",
       "      <th>2</th>\n",
       "      <td>Male</td>\n",
       "      <td>28</td>\n",
       "      <td>Doctor</td>\n",
       "      <td>6.2</td>\n",
       "      <td>6</td>\n",
       "      <td>60</td>\n",
       "      <td>8</td>\n",
       "      <td>Normal</td>\n",
       "      <td>75</td>\n",
       "      <td>10000</td>\n",
       "      <td>NaN</td>\n",
       "      <td>125</td>\n",
       "      <td>80</td>\n",
       "    </tr>\n",
       "    <tr>\n",
       "      <th>3</th>\n",
       "      <td>Male</td>\n",
       "      <td>28</td>\n",
       "      <td>Sales Representative</td>\n",
       "      <td>5.9</td>\n",
       "      <td>4</td>\n",
       "      <td>30</td>\n",
       "      <td>8</td>\n",
       "      <td>Obese</td>\n",
       "      <td>85</td>\n",
       "      <td>3000</td>\n",
       "      <td>Sleep Apnea</td>\n",
       "      <td>140</td>\n",
       "      <td>90</td>\n",
       "    </tr>\n",
       "    <tr>\n",
       "      <th>4</th>\n",
       "      <td>Male</td>\n",
       "      <td>28</td>\n",
       "      <td>Sales Representative</td>\n",
       "      <td>5.9</td>\n",
       "      <td>4</td>\n",
       "      <td>30</td>\n",
       "      <td>8</td>\n",
       "      <td>Obese</td>\n",
       "      <td>85</td>\n",
       "      <td>3000</td>\n",
       "      <td>Sleep Apnea</td>\n",
       "      <td>140</td>\n",
       "      <td>90</td>\n",
       "    </tr>\n",
       "  </tbody>\n",
       "</table>\n",
       "</div>"
      ],
      "text/plain": [
       "  Gender  Age            Occupation  Sleep Duration  Quality of Sleep  \\\n",
       "0   Male   27     Software Engineer             6.1                 6   \n",
       "1   Male   28                Doctor             6.2                 6   \n",
       "2   Male   28                Doctor             6.2                 6   \n",
       "3   Male   28  Sales Representative             5.9                 4   \n",
       "4   Male   28  Sales Representative             5.9                 4   \n",
       "\n",
       "   Physical Activity Level  Stress Level BMI Category  Heart Rate  \\\n",
       "0                       42             6   Overweight          77   \n",
       "1                       60             8       Normal          75   \n",
       "2                       60             8       Normal          75   \n",
       "3                       30             8        Obese          85   \n",
       "4                       30             8        Obese          85   \n",
       "\n",
       "   Daily Steps Sleep Disorder  Systolic  Diastolic  \n",
       "0         4200            NaN       126         83  \n",
       "1        10000            NaN       125         80  \n",
       "2        10000            NaN       125         80  \n",
       "3         3000    Sleep Apnea       140         90  \n",
       "4         3000    Sleep Apnea       140         90  "
      ]
     },
     "metadata": {},
     "output_type": "display_data"
    }
   ],
   "source": [
    "nb_lignes, nb_colonnes = fichier.shape\n",
    "display(fichier.head())"
   ]
  },
  {
   "cell_type": "markdown",
   "id": "82814470-4c0b-40b3-b00b-b847914c5c46",
   "metadata": {},
   "source": [
    "*Remarque : le nombre d'individus et de variables dans notre base ne changent pas suite à cette modification.*"
   ]
  },
  {
   "cell_type": "markdown",
   "id": "94c1fd8c-a504-4bb2-80b3-eff404bf657d",
   "metadata": {},
   "source": [
    "#### On va maintenant vérifier s'il y a des valeurs manquantes dans notre fichier :"
   ]
  },
  {
   "cell_type": "code",
   "execution_count": 15,
   "id": "fe60af89-5d40-4f87-9137-311a7151b16d",
   "metadata": {
    "jupyter": {
     "source_hidden": true
    }
   },
   "outputs": [
    {
     "data": {
      "text/html": [
       "<div>\n",
       "<style scoped>\n",
       "    .dataframe tbody tr th:only-of-type {\n",
       "        vertical-align: middle;\n",
       "    }\n",
       "\n",
       "    .dataframe tbody tr th {\n",
       "        vertical-align: top;\n",
       "    }\n",
       "\n",
       "    .dataframe thead th {\n",
       "        text-align: right;\n",
       "    }\n",
       "</style>\n",
       "<table border=\"1\" class=\"dataframe\">\n",
       "  <thead>\n",
       "    <tr style=\"text-align: right;\">\n",
       "      <th></th>\n",
       "      <th>Nombre de valeurs manquantes</th>\n",
       "    </tr>\n",
       "  </thead>\n",
       "  <tbody>\n",
       "    <tr>\n",
       "      <th>Gender</th>\n",
       "      <td>0</td>\n",
       "    </tr>\n",
       "    <tr>\n",
       "      <th>Age</th>\n",
       "      <td>0</td>\n",
       "    </tr>\n",
       "    <tr>\n",
       "      <th>Occupation</th>\n",
       "      <td>0</td>\n",
       "    </tr>\n",
       "    <tr>\n",
       "      <th>Sleep Duration</th>\n",
       "      <td>0</td>\n",
       "    </tr>\n",
       "    <tr>\n",
       "      <th>Quality of Sleep</th>\n",
       "      <td>0</td>\n",
       "    </tr>\n",
       "    <tr>\n",
       "      <th>Physical Activity Level</th>\n",
       "      <td>0</td>\n",
       "    </tr>\n",
       "    <tr>\n",
       "      <th>Stress Level</th>\n",
       "      <td>0</td>\n",
       "    </tr>\n",
       "    <tr>\n",
       "      <th>BMI Category</th>\n",
       "      <td>0</td>\n",
       "    </tr>\n",
       "    <tr>\n",
       "      <th>Heart Rate</th>\n",
       "      <td>0</td>\n",
       "    </tr>\n",
       "    <tr>\n",
       "      <th>Daily Steps</th>\n",
       "      <td>0</td>\n",
       "    </tr>\n",
       "    <tr>\n",
       "      <th>Sleep Disorder</th>\n",
       "      <td>219</td>\n",
       "    </tr>\n",
       "    <tr>\n",
       "      <th>Systolic</th>\n",
       "      <td>0</td>\n",
       "    </tr>\n",
       "    <tr>\n",
       "      <th>Diastolic</th>\n",
       "      <td>0</td>\n",
       "    </tr>\n",
       "  </tbody>\n",
       "</table>\n",
       "</div>"
      ],
      "text/plain": [
       "                         Nombre de valeurs manquantes\n",
       "Gender                                              0\n",
       "Age                                                 0\n",
       "Occupation                                          0\n",
       "Sleep Duration                                      0\n",
       "Quality of Sleep                                    0\n",
       "Physical Activity Level                             0\n",
       "Stress Level                                        0\n",
       "BMI Category                                        0\n",
       "Heart Rate                                          0\n",
       "Daily Steps                                         0\n",
       "Sleep Disorder                                    219\n",
       "Systolic                                            0\n",
       "Diastolic                                           0"
      ]
     },
     "metadata": {},
     "output_type": "display_data"
    }
   ],
   "source": [
    "valeurs_manquantes = fichier.isnull().sum()\n",
    "display(pd.DataFrame(valeurs_manquantes, columns=[\"Nombre de valeurs manquantes\"]))"
   ]
  },
  {
   "cell_type": "markdown",
   "id": "9f348cf5-6a4c-4ed0-bf8b-92520117fdbc",
   "metadata": {},
   "source": [
    "La présence de valeurs manquantes pour la colonne portant sur les troubles du sommeil signifie seulement que la personne n'a pas de trouble.  \n",
    "Nous remplaçons donc les valeurs \"Nan\" par \"Aucun\"."
   ]
  },
  {
   "cell_type": "code",
   "execution_count": 17,
   "id": "3598a644-4adb-444d-bcb8-0eb890df23fc",
   "metadata": {
    "jupyter": {
     "source_hidden": true
    }
   },
   "outputs": [
    {
     "name": "stdout",
     "output_type": "stream",
     "text": [
      "Notre nouvelle colonne 'Sleep Disorder' : \n",
      " 0            Aucun\n",
      "1            Aucun\n",
      "2            Aucun\n",
      "3      Sleep Apnea\n",
      "4      Sleep Apnea\n",
      "          ...     \n",
      "369    Sleep Apnea\n",
      "370    Sleep Apnea\n",
      "371    Sleep Apnea\n",
      "372    Sleep Apnea\n",
      "373    Sleep Apnea\n",
      "Name: Sleep Disorder, Length: 374, dtype: object\n"
     ]
    }
   ],
   "source": [
    "fichier[\"Sleep Disorder\"] = fichier[\"Sleep Disorder\"].fillna(\"Aucun\")\n",
    "print(\"Notre nouvelle colonne 'Sleep Disorder' : \\n\", fichier[\"Sleep Disorder\"])"
   ]
  },
  {
   "cell_type": "markdown",
   "id": "a1d80ad4-f1ef-4139-9558-98d4d01d3f28",
   "metadata": {},
   "source": [
    "De plus, en regardant la colonne sur l'IMC :"
   ]
  },
  {
   "cell_type": "code",
   "execution_count": 19,
   "id": "f79e7400-c705-4840-b64d-28943afcc6b1",
   "metadata": {
    "jupyter": {
     "source_hidden": true
    }
   },
   "outputs": [
    {
     "data": {
      "text/plain": [
       "array(['Overweight', 'Normal', 'Obese', 'Normal Weight'], dtype=object)"
      ]
     },
     "execution_count": 19,
     "metadata": {},
     "output_type": "execute_result"
    }
   ],
   "source": [
    "fichier[\"BMI Category\"].unique()"
   ]
  },
  {
   "cell_type": "markdown",
   "id": "f3598fc8-9226-46bc-9c50-e51678fcda90",
   "metadata": {},
   "source": [
    "On peut remarquer qu'on a deux noms \"Normal\" et \"Normal weight\" pour désigner un IMC normal. Nous allons donc remplacer \"Normal weight\" par \"Normal\" afin d'homogénéiser le tout."
   ]
  },
  {
   "cell_type": "code",
   "execution_count": 21,
   "id": "7e1ec70e-7d9e-4160-aa6e-b21aa17ed61e",
   "metadata": {
    "jupyter": {
     "source_hidden": true
    }
   },
   "outputs": [],
   "source": [
    "fichier[\"BMI Category\"] = fichier[\"BMI Category\"].replace({\"Normal Weight\": \"Normal\"})"
   ]
  },
  {
   "cell_type": "markdown",
   "id": "66d0cc5e-2a05-4e36-89ab-e5cd1edff99b",
   "metadata": {},
   "source": [
    "## 2 - Description globale des variables qualitatives"
   ]
  },
  {
   "cell_type": "markdown",
   "id": "7f63a7b1-fb64-4b17-b739-700391412142",
   "metadata": {},
   "source": [
    "Maintenant que nous nous sommes occupés des valeurs manquantes et autres \"anomalies\" du fichier, nous allons pouvoir vérifier plus en profondeur nos données. On commence par assigner nos colonnes à des variables python."
   ]
  },
  {
   "cell_type": "code",
   "execution_count": 24,
   "id": "d3a83e10-a27a-415e-832e-7bf496180c2b",
   "metadata": {
    "jupyter": {
     "source_hidden": true
    }
   },
   "outputs": [],
   "source": [
    "# Variables à expliquer Y :\n",
    "Y = fichier[\"Sleep Duration\"]\n",
    "\n",
    "# Variables explicatives quantitatives :\n",
    "\n",
    "genre = fichier[\"Gender\"]\n",
    "metier = fichier[\"Occupation\"]\n",
    "IMC = fichier[\"BMI Category\"]\n",
    "sleepdis = fichier[\"Sleep Disorder\"]\n",
    "\n",
    "# Variables explicatives quantitatives :\n",
    "age = fichier[\"Age\"]\n",
    "activ = fichier[\"Physical Activity Level\"]\n",
    "battement = fichier[\"Heart Rate\"]\n",
    "pas = fichier[\"Daily Steps\"]\n",
    "stress = fichier[\"Stress Level\"]\n",
    "systolique = fichier[\"Systolic\"]\n",
    "diastolique = fichier[\"Diastolic\"]"
   ]
  },
  {
   "cell_type": "markdown",
   "id": "ecfb5309-f30f-4e80-9afe-7503f947bf34",
   "metadata": {},
   "source": [
    "#### Nous allons maintenant afficher effectifs et fréquences pour les variables quantitatives :"
   ]
  },
  {
   "cell_type": "code",
   "execution_count": 26,
   "id": "3a5f7c62-14db-463e-a582-cd4a2686caff",
   "metadata": {
    "jupyter": {
     "source_hidden": true
    }
   },
   "outputs": [
    {
     "name": "stdout",
     "output_type": "stream",
     "text": [
      "Tableau des effectifs pour le genre :\n",
      "+----------+------------+-----------------+\n",
      "| Gender   |   Effectif |   Fréquence (%) |\n",
      "+==========+============+=================+\n",
      "| Male     |        189 |         50.5348 |\n",
      "+----------+------------+-----------------+\n",
      "| Female   |        185 |         49.4652 |\n",
      "+----------+------------+-----------------+\n"
     ]
    }
   ],
   "source": [
    "table_freq = pd.DataFrame({\n",
    "    \"Effectif\": genre.value_counts(),\n",
    "    \"Fréquence (%)\": genre.value_counts(normalize=True) * 100\n",
    "})\n",
    "\n",
    "print(\"Tableau des effectifs pour le genre :\")\n",
    "print(tabulate(table_freq, headers=\"keys\", tablefmt=\"grid\"))"
   ]
  },
  {
   "cell_type": "markdown",
   "id": "1646d0e0-b524-4ee5-9a53-367e86fbc914",
   "metadata": {},
   "source": [
    "La proportion homme/femme est parfaitement représentée dans notre base de données. On estime qu'aucun biais ne sera apporté par cette variable."
   ]
  },
  {
   "cell_type": "code",
   "execution_count": 28,
   "id": "bffb2132-bb2d-4383-904b-f36273ad3b55",
   "metadata": {
    "jupyter": {
     "source_hidden": true
    }
   },
   "outputs": [
    {
     "name": "stdout",
     "output_type": "stream",
     "text": [
      "Tableau des effectifs pour les métiers :\n",
      "+----------------------+------------+-----------------+\n",
      "| Occupation           |   Effectif |   Fréquence (%) |\n",
      "+======================+============+=================+\n",
      "| Nurse                |         73 |       19.5187   |\n",
      "+----------------------+------------+-----------------+\n",
      "| Doctor               |         71 |       18.984    |\n",
      "+----------------------+------------+-----------------+\n",
      "| Engineer             |         63 |       16.8449   |\n",
      "+----------------------+------------+-----------------+\n",
      "| Lawyer               |         47 |       12.5668   |\n",
      "+----------------------+------------+-----------------+\n",
      "| Teacher              |         40 |       10.6952   |\n",
      "+----------------------+------------+-----------------+\n",
      "| Accountant           |         37 |        9.89305  |\n",
      "+----------------------+------------+-----------------+\n",
      "| Salesperson          |         32 |        8.55615  |\n",
      "+----------------------+------------+-----------------+\n",
      "| Software Engineer    |          4 |        1.06952  |\n",
      "+----------------------+------------+-----------------+\n",
      "| Scientist            |          4 |        1.06952  |\n",
      "+----------------------+------------+-----------------+\n",
      "| Sales Representative |          2 |        0.534759 |\n",
      "+----------------------+------------+-----------------+\n",
      "| Manager              |          1 |        0.26738  |\n",
      "+----------------------+------------+-----------------+\n"
     ]
    }
   ],
   "source": [
    "table_freq = pd.DataFrame({\n",
    "    \"Effectif\": metier.value_counts(),\n",
    "    \"Fréquence (%)\": metier.value_counts(normalize=True) * 100\n",
    "})\n",
    "\n",
    "print(\"Tableau des effectifs pour les métiers :\")\n",
    "print(tabulate(table_freq, headers=\"keys\", tablefmt=\"grid\"))"
   ]
  },
  {
   "cell_type": "markdown",
   "id": "3f9edd31-9789-41f4-bcf1-f591b975463f",
   "metadata": {},
   "source": [
    "On remarque une grande disparité dans les effectifs de métiers. Il faudra donc chercher à les regrouper, voire accepter de ne pas pouvoir analyser certaines modalités métier."
   ]
  },
  {
   "cell_type": "code",
   "execution_count": 30,
   "id": "9d7c5031-3430-448c-a87b-51b623bb2044",
   "metadata": {
    "jupyter": {
     "source_hidden": true
    }
   },
   "outputs": [
    {
     "name": "stdout",
     "output_type": "stream",
     "text": [
      "Tableau des effectifs pour l'IMC :\n",
      "+----------------+------------+-----------------+\n",
      "| BMI Category   |   Effectif |   Fréquence (%) |\n",
      "+================+============+=================+\n",
      "| Normal         |        216 |         57.754  |\n",
      "+----------------+------------+-----------------+\n",
      "| Overweight     |        148 |         39.5722 |\n",
      "+----------------+------------+-----------------+\n",
      "| Obese          |         10 |          2.6738 |\n",
      "+----------------+------------+-----------------+\n"
     ]
    }
   ],
   "source": [
    "table_freq = pd.DataFrame({\n",
    "    \"Effectif\": IMC.value_counts(),\n",
    "    \"Fréquence (%)\": IMC.value_counts(normalize=True) * 100\n",
    "})\n",
    "\n",
    "print(\"Tableau des effectifs pour l'IMC :\")\n",
    "print(tabulate(table_freq, headers=\"keys\", tablefmt=\"grid\"))"
   ]
  },
  {
   "cell_type": "markdown",
   "id": "ff6f074c-5da0-4ba6-949d-8eb217d13313",
   "metadata": {},
   "source": [
    "Ici on remarque que la modalité \"Obese\" est très peu représentée. Nous allons vérifier par la suite si les données qui leur sont liées sont similaires à celles de la modalité \"Overweight\", dans ce cas il sera possible de regouper ces deux modalités en une seule."
   ]
  },
  {
   "cell_type": "code",
   "execution_count": 32,
   "id": "242e730b-705b-4312-a39d-8ea64b217356",
   "metadata": {
    "jupyter": {
     "source_hidden": true
    }
   },
   "outputs": [
    {
     "name": "stdout",
     "output_type": "stream",
     "text": [
      "Tableau des effectifs pour les perturbations du sommeil :\n",
      "+------------------+------------+-----------------+\n",
      "| Sleep Disorder   |   Effectif |   Fréquence (%) |\n",
      "+==================+============+=================+\n",
      "| Aucun            |        219 |         58.5561 |\n",
      "+------------------+------------+-----------------+\n",
      "| Sleep Apnea      |         78 |         20.8556 |\n",
      "+------------------+------------+-----------------+\n",
      "| Insomnia         |         77 |         20.5882 |\n",
      "+------------------+------------+-----------------+\n"
     ]
    }
   ],
   "source": [
    "table_freq = pd.DataFrame({\n",
    "    \"Effectif\": sleepdis.value_counts(),\n",
    "    \"Fréquence (%)\": sleepdis.value_counts(normalize=True) * 100\n",
    "})\n",
    "\n",
    "print(\"Tableau des effectifs pour les perturbations du sommeil :\")\n",
    "print(tabulate(table_freq, headers=\"keys\", tablefmt=\"grid\"))"
   ]
  },
  {
   "cell_type": "markdown",
   "id": "4ec17450-cce9-4aee-aeac-021d052b463b",
   "metadata": {},
   "source": [
    "Malgré un déséquilibre apparant (60/20/20) des valeurs, on pourra  soit regrouper l'apnée du sommeil avec les insomnies, soit les traiter séparement puisque leurs effectifs sont suffisants."
   ]
  },
  {
   "cell_type": "markdown",
   "id": "77ad4d7e-5293-4e63-ac83-375a2e77e091",
   "metadata": {},
   "source": [
    "_faire analyse du regroupement des métiers ici ?_"
   ]
  },
  {
   "cell_type": "markdown",
   "id": "248a29b3-accd-407e-b8c4-d1ed57a2ce6d",
   "metadata": {},
   "source": [
    "#### Nous allons maintenant réaliser des tableaux de contingence entre des variables deux à deux.  \n",
    "##### Elles vont nous permettre de faire ressortir de possibles sur et sous-représentations des effectifs sur les modalités de ces deux variables."
   ]
  },
  {
   "cell_type": "markdown",
   "id": "0fcb378d-0feb-44a9-885c-a4fccfbceaa0",
   "metadata": {},
   "source": [
    "##### 1) Table de contingence : Métier / Genre."
   ]
  },
  {
   "cell_type": "code",
   "execution_count": 37,
   "id": "d910e14f-5964-4cc6-b73c-647e17a4e1e5",
   "metadata": {
    "jupyter": {
     "source_hidden": true
    }
   },
   "outputs": [
    {
     "data": {
      "image/png": "[encoded data removed]",
      "text/plain": [
       "<Figure size 800x200 with 1 Axes>"
      ]
     },
     "metadata": {},
     "output_type": "display_data"
    }
   ],
   "source": [
    "conting_g_m = pd.crosstab(fichier[\"Gender\"], fichier[\"Occupation\"])\n",
    "plt.figure(figsize=(8, 2))\n",
    "sns.heatmap(conting_g_m, annot=True, fmt='d', cmap='YlGnBu', cbar=False)\n",
    "plt.title('Tableau de Contingence Genre/Métier')\n",
    "plt.xlabel('Métier')\n",
    "plt.ylabel('Genre')\n",
    "plt.show()"
   ]
  },
  {
   "cell_type": "markdown",
   "id": "b086c63a-6cff-4804-8492-5a2c90e8df65",
   "metadata": {},
   "source": [
    "Nous regardons uniquement les métiers ayant un effectif suffisamment grand.  \n",
    "Nous remarquons que les femmes représentent la majorité des enseignants, infirmières et comptables.  \n",
    "Pour leur part, les hommes sont surnuméraires en tant que docteurs, avocats et commerciaux.  \n",
    "Le seul métier correctement représenté par les deux sexes est celui d'ingénieur."
   ]
  },
  {
   "cell_type": "markdown",
   "id": "babcfcdc-0b23-4d74-a0fe-4e8ce4531883",
   "metadata": {},
   "source": [
    "##### 2) Table de contingence : IMC / Genre"
   ]
  },
  {
   "cell_type": "code",
   "execution_count": 40,
   "id": "a94c00d4-a02e-4495-b097-d87210caf1d4",
   "metadata": {
    "jupyter": {
     "source_hidden": true
    }
   },
   "outputs": [
    {
     "data": {
      "image/png": "[encoded data removed]",
      "text/plain": [
       "<Figure size 800x200 with 1 Axes>"
      ]
     },
     "metadata": {},
     "output_type": "display_data"
    }
   ],
   "source": [
    "conting_g_m = pd.crosstab(fichier[\"Gender\"], fichier[\"BMI Category\"])\n",
    "plt.figure(figsize=(8, 2))\n",
    "sns.heatmap(conting_g_m, annot=True, fmt='d', cmap='YlGnBu', cbar=False)\n",
    "plt.title('Tableau de Contingence Genre/IMC')\n",
    "plt.xlabel('IMC')\n",
    "plt.ylabel('Genre')\n",
    "plt.show()"
   ]
  },
  {
   "cell_type": "markdown",
   "id": "8f8bc091-c39c-4163-bb22-a983a50d79dc",
   "metadata": {},
   "source": [
    "Plus surprenant ici, la majorité des personnes en surpoids sont des femmes. On remarque aussi que les femmes sont aussi bien représentées en IMC Normal et Surpoids.  \n",
    "Les hommes en surpoids sont moins bien représentés que ceux à IMC Normal, nous considérons cependant qu'un effectif de 42 en IMC Surpoids est suffisant pour une analyse ultérieure."
   ]
  },
  {
   "cell_type": "markdown",
   "id": "50f63d4b-afd4-4b0f-ba85-35796e7d8754",
   "metadata": {},
   "source": [
    "##### 3) Table de contingence : Métier / IMC"
   ]
  },
  {
   "cell_type": "code",
   "execution_count": 43,
   "id": "ec554c01-90ef-4d5a-80af-b6057202b8b2",
   "metadata": {
    "jupyter": {
     "source_hidden": true
    }
   },
   "outputs": [
    {
     "data": {
      "image/png": "[encoded data removed]",
      "text/plain": [
       "<Figure size 800x200 with 1 Axes>"
      ]
     },
     "metadata": {},
     "output_type": "display_data"
    }
   ],
   "source": [
    "conting_g_m = pd.crosstab(fichier[\"BMI Category\"], fichier[\"Occupation\"])\n",
    "plt.figure(figsize=(8, 2))\n",
    "sns.heatmap(conting_g_m, annot=True, fmt='d', cmap='YlGnBu', cbar=False)\n",
    "plt.title('Tableau de Contingence IMC/Métier')\n",
    "plt.xlabel('Métier')\n",
    "plt.ylabel('IMC')\n",
    "plt.show()"
   ]
  },
  {
   "cell_type": "markdown",
   "id": "b4d87aa2-0c7d-44ca-beee-aec8273ae236",
   "metadata": {},
   "source": [
    "Cette table nous permet de faire le lien avec la précédente afin de déterminer dans quels métiers on retrouve le plus d'hommes et de femmes en surpoids.  \n",
    "On en ressort les informations suivantes : les infirmières et enseignantes sont principalement des femmes en surpoids alors que les hommes en surpoids sont surtout des commerciaux."
   ]
  },
  {
   "cell_type": "markdown",
   "id": "c219bab7-bd56-4e3e-84ab-a0a4ff206ad4",
   "metadata": {},
   "source": [
    "##### 4) Table de contingence : Trouble du sommeil / Genre"
   ]
  },
  {
   "cell_type": "code",
   "execution_count": 46,
   "id": "6018666d-7dee-4918-bdc1-d71755e06794",
   "metadata": {
    "jupyter": {
     "source_hidden": true
    }
   },
   "outputs": [
    {
     "data": {
      "image/png": "[encoded data removed]",
      "text/plain": [
       "<Figure size 800x200 with 1 Axes>"
      ]
     },
     "metadata": {},
     "output_type": "display_data"
    }
   ],
   "source": [
    "conting_g_m = pd.crosstab(fichier[\"Gender\"], fichier[\"Sleep Disorder\"])\n",
    "plt.figure(figsize=(8, 2))\n",
    "sns.heatmap(conting_g_m, annot=True, fmt='d', cmap='YlGnBu', cbar=False)\n",
    "plt.title('Tableau de Contingence Genre/Perturbation')\n",
    "plt.xlabel('Trouble du sommeil')\n",
    "plt.ylabel('Genre')\n",
    "plt.show()"
   ]
  },
  {
   "cell_type": "markdown",
   "id": "55615f2e-c904-4ece-b3a4-5f9bc9cfbe50",
   "metadata": {},
   "source": [
    "Les modalités \"Aucun trouble\" et \"Insomnie\" ont des effectifs suffisant dans les deux genres.  \n",
    "En revanche, le trouble de l'apnée du sommeil est largement représentée par les femmes. "
   ]
  },
  {
   "cell_type": "markdown",
   "id": "3f6ad9a8-8d62-422c-8c18-3e78476d5a2f",
   "metadata": {},
   "source": [
    "##### 5) Table de contingence : Métier / Trouble du sommeil"
   ]
  },
  {
   "cell_type": "code",
   "execution_count": 49,
   "id": "cda2669a-0550-43a1-8e13-43b2216afc2e",
   "metadata": {
    "jupyter": {
     "source_hidden": true
    }
   },
   "outputs": [
    {
     "data": {
      "image/png": "[encoded data removed]",
      "text/plain": [
       "<Figure size 800x200 with 1 Axes>"
      ]
     },
     "metadata": {},
     "output_type": "display_data"
    }
   ],
   "source": [
    "conting_g_m = pd.crosstab(fichier[\"Sleep Disorder\"], fichier[\"Occupation\"])\n",
    "plt.figure(figsize=(8, 2))\n",
    "sns.heatmap(conting_g_m, annot=True, fmt='d', cmap='YlGnBu', cbar=False)\n",
    "plt.title('Tableau de Contingence Perturbation/Métier')\n",
    "plt.xlabel('Métier')\n",
    "plt.ylabel('Trouble du sommeil')\n",
    "plt.show()"
   ]
  },
  {
   "cell_type": "markdown",
   "id": "a4d90d23-f891-4a0d-9058-e8e8ad714c7d",
   "metadata": {},
   "source": [
    "Cette table est l'une des plus marquantes car elle montre que métiers et troubles du sommeil sont des variables fortement liés entre elles."
   ]
  },
  {
   "cell_type": "markdown",
   "id": "c3b8a373-9093-4716-8561-d11e33e5d2a8",
   "metadata": {},
   "source": [
    "##### 6) Table de contingence Trouble du sommeil / IMC"
   ]
  },
  {
   "cell_type": "code",
   "execution_count": 52,
   "id": "5506a762-bca9-40ff-b57e-176831a606ab",
   "metadata": {
    "jupyter": {
     "source_hidden": true
    },
    "scrolled": true
   },
   "outputs": [
    {
     "data": {
      "image/png": "[encoded data removed]",
      "text/plain": [
       "<Figure size 800x200 with 1 Axes>"
      ]
     },
     "metadata": {},
     "output_type": "display_data"
    }
   ],
   "source": [
    "conting_g_m = pd.crosstab(fichier[\"BMI Category\"], fichier[\"Sleep Disorder\"])\n",
    "plt.figure(figsize=(8, 2))\n",
    "sns.heatmap(conting_g_m, annot=True, fmt='d', cmap='YlGnBu', cbar=False)\n",
    "plt.title('Tableau de Contingence IMC/Perturbation')\n",
    "plt.xlabel('Trouble du sommeil')\n",
    "plt.ylabel('IMC')\n",
    "plt.show()"
   ]
  },
  {
   "cell_type": "markdown",
   "id": "f7b44202-3965-4cf6-af3a-ab0ea8bc3094",
   "metadata": {},
   "source": [
    "Cette table de contingence sert principalement à confirmer ce que nous pouvions déduire des tables précédentes, à savoir que les personnes en surpoids sont celles souffrant le plus de troubles du sommeil."
   ]
  },
  {
   "cell_type": "markdown",
   "id": "1e25081c-9835-442b-aa53-71cb9dcc5d0f",
   "metadata": {},
   "source": [
    "##### Dans le prochain notebook, nous réaliserons l'analyse des données quantitatives.\n",
    "***"
   ]
  }
 ],
 "metadata": {
  "kernelspec": {
   "display_name": "Python 3 (ipykernel)",
   "language": "python",
   "name": "python3"
  },
  "language_info": {
   "codemirror_mode": {
    "name": "ipython",
    "version": 3
   },
   "file_extension": ".py",
   "mimetype": "text/x-python",
   "name": "python",
   "nbconvert_exporter": "python",
   "pygments_lexer": "ipython3",
   "version": "3.12.7"
  }
 },
 "nbformat": 4,
 "nbformat_minor": 5
}
